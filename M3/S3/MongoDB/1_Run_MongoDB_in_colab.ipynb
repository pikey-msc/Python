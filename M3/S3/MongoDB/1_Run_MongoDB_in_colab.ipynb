{
  "nbformat": 4,
  "nbformat_minor": 0,
  "metadata": {
    "colab": {
      "name": "1_Run_MongoDB_in_colab.ipynb",
      "provenance": [],
      "collapsed_sections": [],
      "include_colab_link": true
    },
    "kernelspec": {
      "display_name": "Python 3",
      "language": "python",
      "name": "python3"
    }
  },
  "cells": [
    {
      "cell_type": "markdown",
      "metadata": {
        "id": "view-in-github",
        "colab_type": "text"
      },
      "source": [
        "<a href=\"https://colab.research.google.com/github/pikey-msc/Python/blob/main/M3/S3/MongoDB/1_Run_MongoDB_in_colab.ipynb\" target=\"_parent\"><img src=\"https://colab.research.google.com/assets/colab-badge.svg\" alt=\"Open In Colab\"/></a>"
      ]
    },
    {
      "metadata": {
        "id": "kOmt80VpVa2W"
      },
      "cell_type": "markdown",
      "source": [
        "# Introduction to MongoDB"
      ]
    },
    {
      "metadata": {
        "id": "nvKR9mh7Vkun"
      },
      "cell_type": "markdown",
      "source": [
        "MongoDB is a free and open-source database program, developed by [MongoDB Inc](https://www.mongodb.com/). \n",
        "Latest stable release is the 4.0.0  ( 21 June 2018 ), [here](https://www.mongodb.com/download-center#community) download the MongoDB community server."
      ]
    },
    {
      "metadata": {
        "id": "vM6ta952S2z2"
      },
      "cell_type": "markdown",
      "source": [
        "# Installing MongoDB in Google Colab"
      ]
    },
    {
      "metadata": {
        "id": "oy8y1i4jl-Ce"
      },
      "cell_type": "markdown",
      "source": [
        "Now, we are going to install MongoDB server in Google Colab with educative purpose.<br>\n",
        "Be aware that **all data will be deleted after 12 hours**.\n",
        "\n",
        "If you need a persistent MongoDB server, you need to install it locally, download MongoDB community server (free) from [here](http://www.google.com/search?q=mongodb+download+community+server&btnI) \n"
      ]
    },
    {
      "metadata": {
        "id": "d_W8Zhl_nYBA",
        "outputId": "f8aa4f6b-6fe6-4728-ce1e-6480290e6190",
        "colab": {
          "base_uri": "https://localhost:8080/"
        }
      },
      "cell_type": "code",
      "source": [
        "# MongoDB download and installation\n",
        "!wget https://fastdl.mongodb.org/linux/mongodb-linux-x86_64-debian71-3.0.15.tgz  # Downloads MongoDB from official repository\n",
        "!tar xfv mongodb-linux-x86_64-debian71-3.0.15.tgz     # Unpack compressed file\n",
        "!rm mongodb-linux-x86_64-debian71-3.0.15.tgz          # Removes downloaded file\n",
        "\n",
        "# Default location of database is \"/data/db\" folder  \n",
        "!mkdir /data                                          # data folder creation \n",
        "!mkdir /data/db                                       # db folder creation inside data"
      ],
      "execution_count": 2,
      "outputs": [
        {
          "output_type": "stream",
          "name": "stdout",
          "text": [
            "--2022-03-17 17:13:33--  https://fastdl.mongodb.org/linux/mongodb-linux-x86_64-debian71-3.0.15.tgz\n",
            "Resolving fastdl.mongodb.org (fastdl.mongodb.org)... 13.32.207.30, 13.32.207.84, 13.32.207.91, ...\n",
            "Connecting to fastdl.mongodb.org (fastdl.mongodb.org)|13.32.207.30|:443... connected.\n",
            "HTTP request sent, awaiting response... 200 OK\n",
            "Length: 70878938 (68M) [application/x-gzip]\n",
            "Saving to: ‘mongodb-linux-x86_64-debian71-3.0.15.tgz’\n",
            "\n",
            "mongodb-linux-x86_6 100%[===================>]  67.59M  28.8MB/s    in 2.3s    \n",
            "\n",
            "2022-03-17 17:13:36 (28.8 MB/s) - ‘mongodb-linux-x86_64-debian71-3.0.15.tgz’ saved [70878938/70878938]\n",
            "\n",
            "mongodb-linux-x86_64-debian71-3.0.15/README\n",
            "mongodb-linux-x86_64-debian71-3.0.15/THIRD-PARTY-NOTICES\n",
            "mongodb-linux-x86_64-debian71-3.0.15/GNU-AGPL-3.0\n",
            "mongodb-linux-x86_64-debian71-3.0.15/bin/mongodump\n",
            "mongodb-linux-x86_64-debian71-3.0.15/bin/mongorestore\n",
            "mongodb-linux-x86_64-debian71-3.0.15/bin/mongoexport\n",
            "mongodb-linux-x86_64-debian71-3.0.15/bin/mongoimport\n",
            "mongodb-linux-x86_64-debian71-3.0.15/bin/mongostat\n",
            "mongodb-linux-x86_64-debian71-3.0.15/bin/mongotop\n",
            "mongodb-linux-x86_64-debian71-3.0.15/bin/bsondump\n",
            "mongodb-linux-x86_64-debian71-3.0.15/bin/mongofiles\n",
            "mongodb-linux-x86_64-debian71-3.0.15/bin/mongooplog\n",
            "mongodb-linux-x86_64-debian71-3.0.15/bin/mongoperf\n",
            "mongodb-linux-x86_64-debian71-3.0.15/bin/mongosniff\n",
            "mongodb-linux-x86_64-debian71-3.0.15/bin/mongod\n",
            "mongodb-linux-x86_64-debian71-3.0.15/bin/mongos\n",
            "mongodb-linux-x86_64-debian71-3.0.15/bin/mongo\n",
            "mkdir: cannot create directory ‘/data’: File exists\n",
            "mkdir: cannot create directory ‘/data/db’: File exists\n"
          ]
        }
      ]
    },
    {
      "metadata": {
        "id": "fYbMpReoBlQj",
        "outputId": "d3c516e4-9711-449f-f8d0-48bf02dddec2",
        "colab": {
          "base_uri": "https://localhost:8080/"
        }
      },
      "cell_type": "code",
      "source": [
        "# Runs mongoDB server\n",
        "!mongodb-linux-x86_64-debian71-3.0.15/bin/mongod --nojournal --dbpath /data/db\n",
        "\n",
        "# !mongodb-linux-x86_64-debian71-3.0.15/bin/mongod --nojournal --port 27017 --dbpath=/data/db --fork --logpath=/data/db/mongodb.log\n",
        "\n",
        "#  --nojournal : disables journal and allows to run Mongo in Colab enviroment (reducing memory usage ) (Warning!!! Journal prevents incompleted data writes and data corruption)\n",
        "#  --port      : defines the port where mongoDB will run\n",
        "#  --dbpath    : defines the location of database folder, by default : /data/db\n",
        "#  --fork      : runs mongoDB in background\n",
        "#  --logpath   : defines the location and name of log file, by default : /data/db/mongodb.log\n",
        "#  --directoryperdb : mongodb will store databases in folder structure\n",
        "#  --wiredTigerDirectoryForIndexes : mongodb will store collections and indexes in folder structure \n",
        "#                                    (allows to create simbolic links and store collections and indexes in independent disks)"
      ],
      "execution_count": null,
      "outputs": [
        {
          "metadata": {
            "tags": null
          },
          "name": "stdout",
          "output_type": "stream",
          "text": [
            "2022-03-17T17:20:30.569+0000 I CONTROL  [initandlisten] MongoDB starting : pid=193 port=27017 dbpath=/data/db 64-bit host=cfd39118c30c\n",
            "2022-03-17T17:20:30.569+0000 I CONTROL  [initandlisten] db version v3.0.15\n",
            "2022-03-17T17:20:30.569+0000 I CONTROL  [initandlisten] git version: b8ff507269c382bc100fc52f75f48d54cd42ec3b\n",
            "2022-03-17T17:20:30.569+0000 I CONTROL  [initandlisten] build info: Linux ip-10-166-66-3 3.2.0-4-amd64 #1 SMP Debian 3.2.46-1 x86_64 BOOST_LIB_VERSION=1_49\n",
            "2022-03-17T17:20:30.569+0000 I CONTROL  [initandlisten] allocator: tcmalloc\n",
            "2022-03-17T17:20:30.569+0000 I CONTROL  [initandlisten] options: { storage: { dbPath: \"/data/db\", journal: { enabled: false } } }\n",
            "2022-03-17T17:20:30.589+0000 I CONTROL  [initandlisten] ** WARNING: You are running this process as the root user, which is not recommended.\n",
            "2022-03-17T17:20:30.589+0000 I CONTROL  [initandlisten] \n",
            "2022-03-17T17:20:30.592+0000 I NETWORK  [initandlisten] waiting for connections on port 27017\n"
          ]
        }
      ]
    },
    {
      "metadata": {
        "id": "8IxGGMVFnWgx"
      },
      "cell_type": "markdown",
      "source": [
        "## Congratulations!!  MongoDB server should be running.\n",
        "Find additional notebooks to learn pymongo in http://www.github.com/giffy"
      ]
    },
    {
      "metadata": {
        "id": "2Tav0v_jBmgV",
        "colab": {
          "base_uri": "https://localhost:8080/"
        },
        "outputId": "67c09ab7-d2d0-4624-ac7d-10f002f5e8e3"
      },
      "cell_type": "code",
      "source": [
        "## Check server stats\n",
        "!mongodb-linux-x86_64-debian71-3.0.15/bin/mongostat"
      ],
      "execution_count": 4,
      "outputs": [
        {
          "output_type": "stream",
          "name": "stdout",
          "text": [
            "2022-03-17T17:18:39.738+0000\tFailed: error connecting to db server: no reachable servers\n"
          ]
        }
      ]
    },
    {
      "metadata": {
        "id": "9nbj7q7wtn42",
        "colab": {
          "base_uri": "https://localhost:8080/"
        },
        "outputId": "110309f9-d848-4024-8253-35e4db0b0fc8"
      },
      "cell_type": "code",
      "source": [
        "## Shutdown mongoDB server\n",
        "!mongodb-linux-x86_64-debian71-3.0.15/bin/mongo admin --eval 'db.shutdownServer()'"
      ],
      "execution_count": 5,
      "outputs": [
        {
          "output_type": "stream",
          "name": "stdout",
          "text": [
            "MongoDB shell version: 3.0.15\n",
            "connecting to: admin\n",
            "2022-03-17T17:18:39.897+0000 W NETWORK  Failed to connect to 127.0.0.1:27017, in(checking socket for error after poll), reason: errno:111 Connection refused\n",
            "2022-03-17T17:18:39.898+0000 E QUERY    Error: couldn't connect to server 127.0.0.1:27017 (127.0.0.1), connection attempt failed\n",
            "    at connect (src/mongo/shell/mongo.js:179:14)\n",
            "    at (connect):1:6 at src/mongo/shell/mongo.js:179\n",
            "exception: connect failed\n"
          ]
        }
      ]
    }
  ]
}