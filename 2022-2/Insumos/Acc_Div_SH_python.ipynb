{
  "nbformat": 4,
  "nbformat_minor": 0,
  "metadata": {
    "colab": {
      "name": "Copia de Copia de Acc_Div_SH_python.ipynb",
      "provenance": [],
      "collapsed_sections": [],
      "include_colab_link": true
    },
    "kernelspec": {
      "name": "python3",
      "display_name": "Python 3"
    },
    "language_info": {
      "name": "python"
    }
  },
  "cells": [
    {
      "cell_type": "markdown",
      "metadata": {
        "id": "view-in-github",
        "colab_type": "text"
      },
      "source": [
        "<a href=\"https://colab.research.google.com/github/pikey-msc/Python/blob/main/2022-2/Insumos/Acc_Div_SH_python.ipynb\" target=\"_parent\"><img src=\"https://colab.research.google.com/assets/colab-badge.svg\" alt=\"Open In Colab\"/></a>"
      ]
    },
    {
      "cell_type": "markdown",
      "source": [
        "#Riesgo de Mercado (Simulación Histórica)\n",
        "\n",
        "Existen trés métodos principales para medir el riesgo de mercado\n",
        "* Simulación histórica\n",
        "* Paramétrico\n",
        "* Simulación de Monte Carlo\n",
        "\n",
        "\n",
        "\n",
        "   **Pérdidas y Ganancias simulación histórica (sin alisado)**\n",
        "   \n",
        "Un enfoque más claro es suponer que tenemos:\n",
        "1.   Una matriz $X_{(n+1)\\times m}$ de $m$ factores de riesgo y $n+1$ observaciones. \n",
        "2.   Denotemos el vector de precios actual como $X_{00}:=(x_{0,1},x_{0,2},\\ldots,x_{0,m})$. \n",
        "3.   Sea $r$ el número de instrumentos de un portafolio, entonces cada instrumento tiene una función de valuación $f_i\\colon A_i \\to R$ para todo $x\\in X$, $i=1,\\ldots, r$, donde $A_i\\subset X_i$ con $\\#(A_i)\\leq \\#(X_i)$.\n",
        "4.   Sea $r$ el número de instrumentos de un portafolio, entonces cada instrumento tiene una función de valuación $f_i\\colon A_i \\to R$ para todo $x\\in X$, $i=1,\\ldots, r$, donde $A_i\\subset X_i$ con $\\#(A_i)\\leq \\#(X_i)$.\n",
        "5.   Sea $M_{1\\times r}=(m_1,\\ldots,m_r)$ el vector de posiciones nominales de cada instrumento, es decir, el número de contratos que se tienen por instrumento $m_i\\in R$ $(i=1,\\ldots,r)$."
      ],
      "metadata": {
        "id": "qaNMAFEoC_cG"
      }
    },
    {
      "cell_type": "code",
      "source": [
        "!pip install yfinance\n",
        "import yfinance as yf\n",
        "import pandas as pd\n"
      ],
      "metadata": {
        "id": "ZfObh47fDDLe",
        "colab": {
          "base_uri": "https://localhost:8080/"
        },
        "outputId": "61663fbd-ce82-4751-8411-414d7de6e35d"
      },
      "execution_count": null,
      "outputs": [
        {
          "output_type": "stream",
          "name": "stdout",
          "text": [
            "Collecting yfinance\n",
            "  Downloading yfinance-0.1.70-py2.py3-none-any.whl (26 kB)\n",
            "Collecting lxml>=4.5.1\n",
            "  Downloading lxml-4.8.0-cp37-cp37m-manylinux_2_17_x86_64.manylinux2014_x86_64.manylinux_2_24_x86_64.whl (6.4 MB)\n",
            "\u001b[K     |████████████████████████████████| 6.4 MB 7.7 MB/s \n",
            "\u001b[?25hRequirement already satisfied: multitasking>=0.0.7 in /usr/local/lib/python3.7/dist-packages (from yfinance) (0.0.10)\n",
            "Requirement already satisfied: pandas>=0.24.0 in /usr/local/lib/python3.7/dist-packages (from yfinance) (1.3.5)\n",
            "Requirement already satisfied: numpy>=1.15 in /usr/local/lib/python3.7/dist-packages (from yfinance) (1.21.5)\n",
            "Collecting requests>=2.26\n",
            "  Downloading requests-2.27.1-py2.py3-none-any.whl (63 kB)\n",
            "\u001b[K     |████████████████████████████████| 63 kB 1.2 MB/s \n",
            "\u001b[?25hRequirement already satisfied: python-dateutil>=2.7.3 in /usr/local/lib/python3.7/dist-packages (from pandas>=0.24.0->yfinance) (2.8.2)\n",
            "Requirement already satisfied: pytz>=2017.3 in /usr/local/lib/python3.7/dist-packages (from pandas>=0.24.0->yfinance) (2018.9)\n",
            "Requirement already satisfied: six>=1.5 in /usr/local/lib/python3.7/dist-packages (from python-dateutil>=2.7.3->pandas>=0.24.0->yfinance) (1.15.0)\n",
            "Requirement already satisfied: urllib3<1.27,>=1.21.1 in /usr/local/lib/python3.7/dist-packages (from requests>=2.26->yfinance) (1.24.3)\n",
            "Requirement already satisfied: charset-normalizer~=2.0.0 in /usr/local/lib/python3.7/dist-packages (from requests>=2.26->yfinance) (2.0.12)\n",
            "Requirement already satisfied: idna<4,>=2.5 in /usr/local/lib/python3.7/dist-packages (from requests>=2.26->yfinance) (2.10)\n",
            "Requirement already satisfied: certifi>=2017.4.17 in /usr/local/lib/python3.7/dist-packages (from requests>=2.26->yfinance) (2021.10.8)\n",
            "Installing collected packages: requests, lxml, yfinance\n",
            "  Attempting uninstall: requests\n",
            "    Found existing installation: requests 2.23.0\n",
            "    Uninstalling requests-2.23.0:\n",
            "      Successfully uninstalled requests-2.23.0\n",
            "  Attempting uninstall: lxml\n",
            "    Found existing installation: lxml 4.2.6\n",
            "    Uninstalling lxml-4.2.6:\n",
            "      Successfully uninstalled lxml-4.2.6\n",
            "\u001b[31mERROR: pip's dependency resolver does not currently take into account all the packages that are installed. This behaviour is the source of the following dependency conflicts.\n",
            "google-colab 1.0.0 requires requests~=2.23.0, but you have requests 2.27.1 which is incompatible.\n",
            "datascience 0.10.6 requires folium==0.2.1, but you have folium 0.8.3 which is incompatible.\u001b[0m\n",
            "Successfully installed lxml-4.8.0 requests-2.27.1 yfinance-0.1.70\n"
          ]
        }
      ]
    },
    {
      "cell_type": "code",
      "source": [
        "start = '2020-01-01'\n",
        "\n",
        "symbol = ['AAPL','MSFT','SQ','AMZN']\n",
        "stock_data = yf.download(symbol,start)\n",
        "# stock_data = stock_data.history(start=start)#, end=end) \n",
        "# symbol1='APPL'\n",
        "# stock_data = yf.Ticker(symbol)\n",
        "# stock_data = stock_data.history(start=start)#, end=end) \n"
      ],
      "metadata": {
        "colab": {
          "base_uri": "https://localhost:8080/"
        },
        "id": "gfH-istCZBOg",
        "outputId": "80005e7c-20d0-44d6-d68d-c4dab7675250"
      },
      "execution_count": null,
      "outputs": [
        {
          "output_type": "stream",
          "name": "stdout",
          "text": [
            "[*********************100%***********************]  4 of 4 completed\n"
          ]
        }
      ]
    },
    {
      "cell_type": "markdown",
      "source": [
        ""
      ],
      "metadata": {
        "id": "X0LmGAw4yfu3"
      }
    },
    {
      "cell_type": "markdown",
      "source": [
        "\n",
        "##Paso 1.\n",
        " (Generación de rendimientos) Construir ${\\Delta X}_{n\\times m}$ que es la matriz de diferencias basados en el operador $T_j$, es decir\n",
        "\t\t$${\\Delta X}_t=\\Big[ T_j(\\frac{x_{t,1}}{x_{t+1,1}}), T_j(\\frac{x_{t,2}}{x_{t+1,2}}),\\ldots, T_j(\\frac{x_{t,m}}{x_{t+1,m}})\\Big]\\quad t=0,1,\\ldots, n-1.$$"
      ],
      "metadata": {
        "id": "9I7OT80dy24f"
      }
    },
    {
      "cell_type": "code",
      "source": [
        "# yf.download?\n",
        "print(stock_data.Close.head(5))\n",
        "\n",
        "import numpy as np\n",
        "X=stock_data.Close\n",
        "X0=stock_data.Close.tail(1)\n",
        "DeltaX=np.log(stock_data.Close/stock_data.Close.shift(1))\n",
        "\n",
        "print(DeltaX.head())\n",
        "print(X0)\n"
      ],
      "metadata": {
        "colab": {
          "base_uri": "https://localhost:8080/"
        },
        "id": "dzMJ_z_SYCCd",
        "outputId": "805fda06-c13a-4663-a074-d9222272f25d"
      },
      "execution_count": null,
      "outputs": [
        {
          "output_type": "stream",
          "name": "stdout",
          "text": [
            "                 AAPL         AMZN        MSFT         SQ\n",
            "Date                                                     \n",
            "2020-01-02  75.087502  1898.010010  160.619995  63.830002\n",
            "2020-01-03  74.357498  1874.969971  158.619995  63.000000\n",
            "2020-01-06  74.949997  1902.880005  159.029999  62.570000\n",
            "2020-01-07  74.597504  1906.859985  157.580002  64.589996\n",
            "2020-01-08  75.797501  1891.969971  160.089996  67.599998\n",
            "                AAPL      AMZN      MSFT        SQ\n",
            "Date                                              \n",
            "2020-01-02       NaN       NaN       NaN       NaN\n",
            "2020-01-03 -0.009770 -0.012213 -0.012530 -0.013089\n",
            "2020-01-06  0.007937  0.014776  0.002581 -0.006849\n",
            "2020-01-07 -0.004714  0.002089 -0.009160  0.031774\n",
            "2020-01-08  0.015958 -0.007839  0.015803  0.045548\n",
            "                  AAPL         AMZN        MSFT          SQ\n",
            "Date                                                       \n",
            "2022-04-04  178.440002  3366.929932  314.970001  145.190002\n"
          ]
        }
      ]
    },
    {
      "cell_type": "code",
      "source": [
        "import pandas as pd\n",
        "M=np.array([1000,5000,2000,100])\n",
        "print(M)\n",
        "\n",
        "#Valoración\n",
        "\n",
        "Y0=X0.squeeze()*M\n",
        "\n",
        "Y0\n",
        "\n"
      ],
      "metadata": {
        "colab": {
          "base_uri": "https://localhost:8080/"
        },
        "id": "C99BKappr5Za",
        "outputId": "b09c9127-597d-489f-92d7-19d6f2e65263"
      },
      "execution_count": null,
      "outputs": [
        {
          "output_type": "stream",
          "name": "stdout",
          "text": [
            "[1000 5000 2000  100]\n"
          ]
        },
        {
          "output_type": "execute_result",
          "data": {
            "text/plain": [
              "AAPL    1.784400e+05\n",
              "AMZN    1.683465e+07\n",
              "MSFT    6.299400e+05\n",
              "SQ      1.451900e+04\n",
              "Name: 2022-04-04 00:00:00, dtype: float64"
            ]
          },
          "metadata": {},
          "execution_count": 4
        }
      ]
    },
    {
      "cell_type": "markdown",
      "source": [
        "##Paso 2. \n",
        "Construir ${X^\\ast}_{n\\times m}$ que es la matriz de factores de riesgo simulada basada en el vector de precios actual $X_{00}$\n",
        "\t\t$$X_{t}^\\ast=\\Big[x_{0,1}T^{-1}_j(\\Delta x_{t,1}), x_{0,2}T^{-1}_j(\\Delta x_{t,2}),\\ldots, x_{0,m}T^{-1}_j(\\Delta x_{t,m})\\Big]\\quad (t=1,\\ldots,n\\quad j=1,2),$$\n",
        "\t\tdonde $T_1(x)=\\ln(x)$, $T_2(x)=x-1$.\n",
        "\n"
      ],
      "metadata": {
        "id": "7Uz38FmizEOO"
      }
    },
    {
      "cell_type": "code",
      "source": [
        "X_s=np.exp(DeltaX.squeeze())*X0.squeeze()\n",
        "X_s.head"
      ],
      "metadata": {
        "colab": {
          "base_uri": "https://localhost:8080/"
        },
        "id": "_YpS4IQMs9Hh",
        "outputId": "27bf3960-01f7-4b72-c575-7d87ccf8e78d"
      },
      "execution_count": null,
      "outputs": [
        {
          "output_type": "execute_result",
          "data": {
            "text/plain": [
              "<bound method NDFrame.head of                   AAPL         AMZN        MSFT          SQ\n",
              "Date                                                       \n",
              "2020-01-02         NaN          NaN         NaN         NaN\n",
              "2020-01-03  176.705202  3326.058600  311.048074  143.302051\n",
              "2020-01-06  179.861856  3417.048670  315.784141  144.199022\n",
              "2020-01-07  177.600791  3373.972055  312.098181  149.877286\n",
              "2020-01-08  181.310440  3340.638732  319.986964  151.956100\n",
              "...                ...          ...         ...         ...\n",
              "2022-03-29  181.854345  3373.395189  319.744723  154.356358\n",
              "2022-03-30  177.253458  3306.994713  313.422145  138.525747\n",
              "2022-03-31  175.268089  3300.047204  309.400385  140.526512\n",
              "2022-04-01  178.133419  3378.549117  316.103995  143.069960\n",
              "2022-04-04  182.667861  3465.461401  320.619538  157.761844\n",
              "\n",
              "[569 rows x 4 columns]>"
            ]
          },
          "metadata": {},
          "execution_count": 5
        }
      ]
    },
    {
      "cell_type": "markdown",
      "source": [
        "## Paso 3. \n",
        "Construcción de la matriz de reevaluación del portafolio basada en los escenarios históricos $Y_{n\\times r}$ de todos los instrumentos financieros, es decir\n",
        "\t\t$$Y_t=[m_1f_1(X_{t}^\\ast), m_2f_2(X_{t}^\\ast),\\ldots, m_rf_r(X_{t}^\\ast)]\\quad (t=1,\\ldots,n).$$\n",
        "    \n"
      ],
      "metadata": {
        "id": "440v6MiazKEQ"
      }
    },
    {
      "cell_type": "code",
      "source": [
        "Y_s=X_s*M.squeeze()\n",
        "Y_s.head\n"
      ],
      "metadata": {
        "colab": {
          "base_uri": "https://localhost:8080/"
        },
        "id": "c-dGnxo5zYgz",
        "outputId": "692fc7fd-c992-4311-f74a-7231a669209c"
      },
      "execution_count": null,
      "outputs": [
        {
          "output_type": "execute_result",
          "data": {
            "text/plain": [
              "<bound method NDFrame.head of                      AAPL          AMZN           MSFT            SQ\n",
              "Date                                                                \n",
              "2020-01-02            NaN           NaN            NaN           NaN\n",
              "2020-01-03  176705.202400  1.663029e+07  622096.147111  14330.205063\n",
              "2020-01-06  179861.856138  1.708524e+07  631568.282077  14419.902236\n",
              "2020-01-07  177600.790895  1.686986e+07  624196.362322  14987.728579\n",
              "2020-01-08  181310.439760  1.670319e+07  639973.927606  15195.610002\n",
              "...                   ...           ...            ...           ...\n",
              "2022-03-29  181854.344675  1.686698e+07  639489.445351  15435.635810\n",
              "2022-03-30  177253.457791  1.653497e+07  626844.290425  13852.574731\n",
              "2022-03-31  175268.089027  1.650024e+07  618800.770022  14052.651220\n",
              "2022-04-01  178133.418940  1.689275e+07  632207.990521  14306.995976\n",
              "2022-04-04  182667.861381  1.732731e+07  641239.075456  15776.184388\n",
              "\n",
              "[569 rows x 4 columns]>"
            ]
          },
          "metadata": {},
          "execution_count": 6
        }
      ]
    },
    {
      "cell_type": "markdown",
      "source": [
        "## Paso 4. \n",
        "Construcción de la matriz de pérdidas y ganancias del portafolio basada en los escenarios históricos $\\Delta Y_{n\\times r}$ de todos los instrumentos financieros, es decir\n",
        "\t\t$$\\Delta Y_t=Y_t-Y_{0}=[m_1(f_1(X_{00})-f_1(X_{t}^\\ast)), m_2( f_2(X_{00})-f_2(X_{t}^\\ast)),\\ldots, m_r(f_r(X_{00})-f_r(X_{t}^\\ast))],$$\n",
        "\t\tpara $(t=1,\\ldots,n)$. Se puede obtener el vector de pérdidas totales ${\\Delta YT}_{n\\times m}$ muy fácilmente, esto es $\\Delta YT=\\sum_{k=1}^r Y_{kt}$ $(t=1,\\ldots,n)$, incluso se puede hacer lo mismo por tipo de riesgo.\n"
      ],
      "metadata": {
        "id": "MIrkcbiSzOiR"
      }
    },
    {
      "cell_type": "code",
      "source": [
        "PL=Y_s-Y0\n",
        "\n",
        "cols=PL.shape[1]\n",
        "\n",
        "PL['Total']=PL.sum(axis=1)\n",
        "PL.head"
      ],
      "metadata": {
        "colab": {
          "base_uri": "https://localhost:8080/"
        },
        "id": "p--ugkyazdcL",
        "outputId": "29a4d6a2-fe04-4402-e93c-ad26046c9b5b"
      },
      "execution_count": null,
      "outputs": [
        {
          "output_type": "execute_result",
          "data": {
            "text/plain": [
              "<bound method NDFrame.head of                    AAPL           AMZN          MSFT           SQ  \\\n",
              "Date                                                                \n",
              "2020-01-02          NaN            NaN           NaN          NaN   \n",
              "2020-01-03 -1734.800042 -204356.659729  -7843.855330  -188.795182   \n",
              "2020-01-06  1421.853696  250593.692008   1628.279636   -99.098009   \n",
              "2020-01-07  -839.211546   35210.615838  -5743.640119   468.728335   \n",
              "2020-01-08  2870.437318 -131455.996737  10033.925164   676.609757   \n",
              "...                 ...            ...           ...          ...   \n",
              "2022-03-29  3414.342234   32326.287568   9549.442910   916.635566   \n",
              "2022-03-30 -1186.544650 -299676.094843  -3095.712016  -666.425513   \n",
              "2022-03-31 -3171.913414 -334413.637679 -11139.232419  -466.349024   \n",
              "2022-04-01  -306.583501   58095.925242   2267.988080  -212.004268   \n",
              "2022-04-04  4227.858939  492657.345021  11299.073014  1257.184144   \n",
              "\n",
              "                    Total  \n",
              "Date                       \n",
              "2020-01-02       0.000000  \n",
              "2020-01-03 -214124.110283  \n",
              "2020-01-06  253544.727332  \n",
              "2020-01-07   29096.492507  \n",
              "2020-01-08 -117875.024497  \n",
              "...                   ...  \n",
              "2022-03-29   46206.708278  \n",
              "2022-03-30 -304624.777022  \n",
              "2022-03-31 -349191.132536  \n",
              "2022-04-01   59845.325553  \n",
              "2022-04-04  509441.461119  \n",
              "\n",
              "[569 rows x 5 columns]>"
            ]
          },
          "metadata": {},
          "execution_count": 7
        }
      ]
    },
    {
      "cell_type": "markdown",
      "source": [
        "##Paso 5. \n",
        "Obtenerla medida de riesgo basado en un nivel de confianza de la matriz ${\\Delta Y}_{\\cdot k}$ $(k=1,\\ldots,r)$ y $\\Delta YT$.\n",
        "\n",
        "Las pérdidas y ganancias vía simulación histórica sin alisado es donde se ponderan los escenarios históricos con un mismo peso para todos, es decir cada escenario tiene una probabilidad de ocurrencia de $1/n$."
      ],
      "metadata": {
        "id": "WAdcqcF4znAR"
      }
    },
    {
      "cell_type": "code",
      "source": [
        "alpha = 0.98 #@param {type:\"slider\", min:0.8, max:1, step:0.001}"
      ],
      "metadata": {
        "id": "ePaAJfQXAhFb"
      },
      "execution_count": null,
      "outputs": []
    },
    {
      "cell_type": "markdown",
      "source": [
        "###Valor en Riesgo (VaR)\n",
        "\n",
        "Es un cuantil a un $\\alpha$ de confianza de la distribución de pérdidas y ganancias, generalmente se expresa en términos monetarios.\n",
        "\n",
        "#VaR\n",
        "\n",
        "El valor en riesgo (VaR) es una estadística utilizada para tratar de cuantificar el nivel de riesgo financiero dentro de una empresa o cartera durante un período de tiempo específico. VaR proporciona una estimación de la pérdida máxima de una posición o cartera determinada durante un período de tiempo, y puede calcularla a través de varios niveles de confianza.\n",
        "\n",
        "Estimar el riesgo de una cartera es importante para el crecimiento del capital a largo plazo y la gestión del riesgo, en particular dentro de empresas o instituciones más grandes. El VaR generalmente se enmarca como algo como esto:\n",
        "\n",
        "“Tenemos un VaR de cartera de 250.000 USD para el próximo mes al 95% de confianza”\n",
        "Esto significa que, con un 95% de confianza, podemos decir que la pérdida de la cartera no superará los 250.000 USD en un mes.\n",
        "En esta publicación, lo guiaré a través de los pasos para calcular esta métrica en una cartera de acciones."
      ],
      "metadata": {
        "id": "tetUyVvJzuNi"
      }
    },
    {
      "cell_type": "code",
      "source": [
        "VaR=PL.quantile(1-alpha, numeric_only=False)\n",
        "\n",
        "print(VaR)\n",
        "\n",
        "\n",
        "VaRsi=[]\n",
        "\n",
        "for i in range(0,PL.shape[1]):\n",
        "  VC=PL.iloc[:,i].sort_values(ascending=True).quantile(1-alpha, interpolation = 'higher')\n",
        "  VaRsi.append(VC)\n",
        "\n",
        "print(VaRsi)\n",
        "\n",
        "print(sum(Y0))"
      ],
      "metadata": {
        "colab": {
          "base_uri": "https://localhost:8080/"
        },
        "id": "2SLu5LbSAHPc",
        "outputId": "f1bdb250-1e3e-43f8-bf73-63d27232e756"
      },
      "execution_count": null,
      "outputs": [
        {
          "output_type": "stream",
          "name": "stdout",
          "text": [
            "AAPL      -8215.669704\n",
            "AMZN    -765784.448698\n",
            "MSFT     -26990.346858\n",
            "SQ        -1144.982959\n",
            "Total   -816536.572913\n",
            "Name: 0.020000000000000018, dtype: float64\n",
            "[-8121.9536565445305, -739788.1953073014, -26660.67456800316, -1090.3814614255625, -786595.3656852178]\n",
            "17657548.663330078\n"
          ]
        }
      ]
    },
    {
      "cell_type": "markdown",
      "source": [
        "###Valor en Riesgo Condicional o \"Expected Shortfall\"\n",
        "\n",
        "Es el promedio de las pérdidas que son más severas que el Valor en Riesgo ($VaR_\\alpha$) a un $\\alpha$ de confianza, es decir:\n",
        "$$E(x|x\\le VaR_\\alpha)$$\n"
      ],
      "metadata": {
        "id": "o0ZOmnB_z5wL"
      }
    },
    {
      "cell_type": "code",
      "source": [
        "def VaR_Cond(x , VaR ):\n",
        "  return np.mean(x[x <= VaR])"
      ],
      "metadata": {
        "id": "FLd6lSMXA4pY"
      },
      "execution_count": null,
      "outputs": []
    },
    {
      "cell_type": "code",
      "source": [
        "\n",
        "VaR_C=[]\n",
        "\n",
        "for i in range(0,PL.shape[1]):\n",
        "  VC=VaR_Cond(PL.iloc[:,i],VaR[i])\n",
        "  VaR_C.append(VC)\n"
      ],
      "metadata": {
        "id": "W7ACgPC7ECw8"
      },
      "execution_count": null,
      "outputs": []
    },
    {
      "cell_type": "code",
      "source": [
        "\n",
        "print(VaR)\n",
        "print(VaR_C)\n",
        "\n",
        "pd.concat([VaR,pd.DataFrame(VaR_C).squeeze()], axis=1, ignore_index=True)"
      ],
      "metadata": {
        "colab": {
          "base_uri": "https://localhost:8080/",
          "height": 484
        },
        "id": "i3rmVoZc0iwR",
        "outputId": "3d0e4854-cedd-4b04-8b9d-81be2c06f57b"
      },
      "execution_count": null,
      "outputs": [
        {
          "output_type": "stream",
          "name": "stdout",
          "text": [
            "AAPL      -8215.669704\n",
            "AMZN    -765784.448698\n",
            "MSFT     -26990.346858\n",
            "SQ        -1144.982959\n",
            "Total   -816536.572913\n",
            "Name: 0.020000000000000018, dtype: float64\n",
            "[-12389.110031190634, -1025152.1500732518, -40925.04803283093, -1686.1279165278247, -1066975.8790856802]\n"
          ]
        },
        {
          "output_type": "execute_result",
          "data": {
            "text/plain": [
              "                   0             1\n",
              "AAPL    -8215.669704           NaN\n",
              "AMZN  -765784.448698           NaN\n",
              "MSFT   -26990.346858           NaN\n",
              "SQ      -1144.982959           NaN\n",
              "Total -816536.572913           NaN\n",
              "0                NaN -1.238911e+04\n",
              "1                NaN -1.025152e+06\n",
              "2                NaN -4.092505e+04\n",
              "3                NaN -1.686128e+03\n",
              "4                NaN -1.066976e+06"
            ],
            "text/html": [
              "\n",
              "  <div id=\"df-f7372c2c-5376-4f99-b773-725cc7199dc3\">\n",
              "    <div class=\"colab-df-container\">\n",
              "      <div>\n",
              "<style scoped>\n",
              "    .dataframe tbody tr th:only-of-type {\n",
              "        vertical-align: middle;\n",
              "    }\n",
              "\n",
              "    .dataframe tbody tr th {\n",
              "        vertical-align: top;\n",
              "    }\n",
              "\n",
              "    .dataframe thead th {\n",
              "        text-align: right;\n",
              "    }\n",
              "</style>\n",
              "<table border=\"1\" class=\"dataframe\">\n",
              "  <thead>\n",
              "    <tr style=\"text-align: right;\">\n",
              "      <th></th>\n",
              "      <th>0</th>\n",
              "      <th>1</th>\n",
              "    </tr>\n",
              "  </thead>\n",
              "  <tbody>\n",
              "    <tr>\n",
              "      <th>AAPL</th>\n",
              "      <td>-8215.669704</td>\n",
              "      <td>NaN</td>\n",
              "    </tr>\n",
              "    <tr>\n",
              "      <th>AMZN</th>\n",
              "      <td>-765784.448698</td>\n",
              "      <td>NaN</td>\n",
              "    </tr>\n",
              "    <tr>\n",
              "      <th>MSFT</th>\n",
              "      <td>-26990.346858</td>\n",
              "      <td>NaN</td>\n",
              "    </tr>\n",
              "    <tr>\n",
              "      <th>SQ</th>\n",
              "      <td>-1144.982959</td>\n",
              "      <td>NaN</td>\n",
              "    </tr>\n",
              "    <tr>\n",
              "      <th>Total</th>\n",
              "      <td>-816536.572913</td>\n",
              "      <td>NaN</td>\n",
              "    </tr>\n",
              "    <tr>\n",
              "      <th>0</th>\n",
              "      <td>NaN</td>\n",
              "      <td>-1.238911e+04</td>\n",
              "    </tr>\n",
              "    <tr>\n",
              "      <th>1</th>\n",
              "      <td>NaN</td>\n",
              "      <td>-1.025152e+06</td>\n",
              "    </tr>\n",
              "    <tr>\n",
              "      <th>2</th>\n",
              "      <td>NaN</td>\n",
              "      <td>-4.092505e+04</td>\n",
              "    </tr>\n",
              "    <tr>\n",
              "      <th>3</th>\n",
              "      <td>NaN</td>\n",
              "      <td>-1.686128e+03</td>\n",
              "    </tr>\n",
              "    <tr>\n",
              "      <th>4</th>\n",
              "      <td>NaN</td>\n",
              "      <td>-1.066976e+06</td>\n",
              "    </tr>\n",
              "  </tbody>\n",
              "</table>\n",
              "</div>\n",
              "      <button class=\"colab-df-convert\" onclick=\"convertToInteractive('df-f7372c2c-5376-4f99-b773-725cc7199dc3')\"\n",
              "              title=\"Convert this dataframe to an interactive table.\"\n",
              "              style=\"display:none;\">\n",
              "        \n",
              "  <svg xmlns=\"http://www.w3.org/2000/svg\" height=\"24px\"viewBox=\"0 0 24 24\"\n",
              "       width=\"24px\">\n",
              "    <path d=\"M0 0h24v24H0V0z\" fill=\"none\"/>\n",
              "    <path d=\"M18.56 5.44l.94 2.06.94-2.06 2.06-.94-2.06-.94-.94-2.06-.94 2.06-2.06.94zm-11 1L8.5 8.5l.94-2.06 2.06-.94-2.06-.94L8.5 2.5l-.94 2.06-2.06.94zm10 10l.94 2.06.94-2.06 2.06-.94-2.06-.94-.94-2.06-.94 2.06-2.06.94z\"/><path d=\"M17.41 7.96l-1.37-1.37c-.4-.4-.92-.59-1.43-.59-.52 0-1.04.2-1.43.59L10.3 9.45l-7.72 7.72c-.78.78-.78 2.05 0 2.83L4 21.41c.39.39.9.59 1.41.59.51 0 1.02-.2 1.41-.59l7.78-7.78 2.81-2.81c.8-.78.8-2.07 0-2.86zM5.41 20L4 18.59l7.72-7.72 1.47 1.35L5.41 20z\"/>\n",
              "  </svg>\n",
              "      </button>\n",
              "      \n",
              "  <style>\n",
              "    .colab-df-container {\n",
              "      display:flex;\n",
              "      flex-wrap:wrap;\n",
              "      gap: 12px;\n",
              "    }\n",
              "\n",
              "    .colab-df-convert {\n",
              "      background-color: #E8F0FE;\n",
              "      border: none;\n",
              "      border-radius: 50%;\n",
              "      cursor: pointer;\n",
              "      display: none;\n",
              "      fill: #1967D2;\n",
              "      height: 32px;\n",
              "      padding: 0 0 0 0;\n",
              "      width: 32px;\n",
              "    }\n",
              "\n",
              "    .colab-df-convert:hover {\n",
              "      background-color: #E2EBFA;\n",
              "      box-shadow: 0px 1px 2px rgba(60, 64, 67, 0.3), 0px 1px 3px 1px rgba(60, 64, 67, 0.15);\n",
              "      fill: #174EA6;\n",
              "    }\n",
              "\n",
              "    [theme=dark] .colab-df-convert {\n",
              "      background-color: #3B4455;\n",
              "      fill: #D2E3FC;\n",
              "    }\n",
              "\n",
              "    [theme=dark] .colab-df-convert:hover {\n",
              "      background-color: #434B5C;\n",
              "      box-shadow: 0px 1px 3px 1px rgba(0, 0, 0, 0.15);\n",
              "      filter: drop-shadow(0px 1px 2px rgba(0, 0, 0, 0.3));\n",
              "      fill: #FFFFFF;\n",
              "    }\n",
              "  </style>\n",
              "\n",
              "      <script>\n",
              "        const buttonEl =\n",
              "          document.querySelector('#df-f7372c2c-5376-4f99-b773-725cc7199dc3 button.colab-df-convert');\n",
              "        buttonEl.style.display =\n",
              "          google.colab.kernel.accessAllowed ? 'block' : 'none';\n",
              "\n",
              "        async function convertToInteractive(key) {\n",
              "          const element = document.querySelector('#df-f7372c2c-5376-4f99-b773-725cc7199dc3');\n",
              "          const dataTable =\n",
              "            await google.colab.kernel.invokeFunction('convertToInteractive',\n",
              "                                                     [key], {});\n",
              "          if (!dataTable) return;\n",
              "\n",
              "          const docLinkHtml = 'Like what you see? Visit the ' +\n",
              "            '<a target=\"_blank\" href=https://colab.research.google.com/notebooks/data_table.ipynb>data table notebook</a>'\n",
              "            + ' to learn more about interactive tables.';\n",
              "          element.innerHTML = '';\n",
              "          dataTable['output_type'] = 'display_data';\n",
              "          await google.colab.output.renderOutput(dataTable, element);\n",
              "          const docLink = document.createElement('div');\n",
              "          docLink.innerHTML = docLinkHtml;\n",
              "          element.appendChild(docLink);\n",
              "        }\n",
              "      </script>\n",
              "    </div>\n",
              "  </div>\n",
              "  "
            ]
          },
          "metadata": {},
          "execution_count": 12
        }
      ]
    },
    {
      "cell_type": "code",
      "source": [
        "def ExponentialWeighted(primer, num_esc):\n",
        "  return [primer*((1-primer)**i) for i in range(num_esc)]"
      ],
      "metadata": {
        "id": "oZMgcsbK0RTH"
      },
      "execution_count": null,
      "outputs": []
    },
    {
      "cell_type": "markdown",
      "source": [
        "Sirve para generar el VaR con alisado"
      ],
      "metadata": {
        "id": "L9OYFJ5H2dq8"
      }
    },
    {
      "cell_type": "code",
      "source": [
        "PL.dropna(inplace = True)\n",
        "PL.head()"
      ],
      "metadata": {
        "id": "wlre0BbD2Hvq",
        "outputId": "2ada7012-8e39-403c-8811-78bad0e00fbd",
        "colab": {
          "base_uri": "https://localhost:8080/",
          "height": 238
        }
      },
      "execution_count": null,
      "outputs": [
        {
          "output_type": "execute_result",
          "data": {
            "text/plain": [
              "                   AAPL           AMZN          MSFT          SQ  \\\n",
              "Date                                                               \n",
              "2020-01-03 -1734.800042 -204356.659729  -7843.855330 -188.795182   \n",
              "2020-01-06  1421.853696  250593.692008   1628.279636  -99.098009   \n",
              "2020-01-07  -839.211546   35210.615838  -5743.640119  468.728335   \n",
              "2020-01-08  2870.437318 -131455.996737  10033.925164  676.609757   \n",
              "2020-01-09  3790.210898   80794.059351   7869.823435   70.877171   \n",
              "\n",
              "                    Total  \n",
              "Date                       \n",
              "2020-01-03 -214124.110283  \n",
              "2020-01-06  253544.727332  \n",
              "2020-01-07   29096.492507  \n",
              "2020-01-08 -117875.024497  \n",
              "2020-01-09   92524.970855  "
            ],
            "text/html": [
              "\n",
              "  <div id=\"df-404d6d16-0436-4cbd-84ab-a05b4bad5999\">\n",
              "    <div class=\"colab-df-container\">\n",
              "      <div>\n",
              "<style scoped>\n",
              "    .dataframe tbody tr th:only-of-type {\n",
              "        vertical-align: middle;\n",
              "    }\n",
              "\n",
              "    .dataframe tbody tr th {\n",
              "        vertical-align: top;\n",
              "    }\n",
              "\n",
              "    .dataframe thead th {\n",
              "        text-align: right;\n",
              "    }\n",
              "</style>\n",
              "<table border=\"1\" class=\"dataframe\">\n",
              "  <thead>\n",
              "    <tr style=\"text-align: right;\">\n",
              "      <th></th>\n",
              "      <th>AAPL</th>\n",
              "      <th>AMZN</th>\n",
              "      <th>MSFT</th>\n",
              "      <th>SQ</th>\n",
              "      <th>Total</th>\n",
              "    </tr>\n",
              "    <tr>\n",
              "      <th>Date</th>\n",
              "      <th></th>\n",
              "      <th></th>\n",
              "      <th></th>\n",
              "      <th></th>\n",
              "      <th></th>\n",
              "    </tr>\n",
              "  </thead>\n",
              "  <tbody>\n",
              "    <tr>\n",
              "      <th>2020-01-03</th>\n",
              "      <td>-1734.800042</td>\n",
              "      <td>-204356.659729</td>\n",
              "      <td>-7843.855330</td>\n",
              "      <td>-188.795182</td>\n",
              "      <td>-214124.110283</td>\n",
              "    </tr>\n",
              "    <tr>\n",
              "      <th>2020-01-06</th>\n",
              "      <td>1421.853696</td>\n",
              "      <td>250593.692008</td>\n",
              "      <td>1628.279636</td>\n",
              "      <td>-99.098009</td>\n",
              "      <td>253544.727332</td>\n",
              "    </tr>\n",
              "    <tr>\n",
              "      <th>2020-01-07</th>\n",
              "      <td>-839.211546</td>\n",
              "      <td>35210.615838</td>\n",
              "      <td>-5743.640119</td>\n",
              "      <td>468.728335</td>\n",
              "      <td>29096.492507</td>\n",
              "    </tr>\n",
              "    <tr>\n",
              "      <th>2020-01-08</th>\n",
              "      <td>2870.437318</td>\n",
              "      <td>-131455.996737</td>\n",
              "      <td>10033.925164</td>\n",
              "      <td>676.609757</td>\n",
              "      <td>-117875.024497</td>\n",
              "    </tr>\n",
              "    <tr>\n",
              "      <th>2020-01-09</th>\n",
              "      <td>3790.210898</td>\n",
              "      <td>80794.059351</td>\n",
              "      <td>7869.823435</td>\n",
              "      <td>70.877171</td>\n",
              "      <td>92524.970855</td>\n",
              "    </tr>\n",
              "  </tbody>\n",
              "</table>\n",
              "</div>\n",
              "      <button class=\"colab-df-convert\" onclick=\"convertToInteractive('df-404d6d16-0436-4cbd-84ab-a05b4bad5999')\"\n",
              "              title=\"Convert this dataframe to an interactive table.\"\n",
              "              style=\"display:none;\">\n",
              "        \n",
              "  <svg xmlns=\"http://www.w3.org/2000/svg\" height=\"24px\"viewBox=\"0 0 24 24\"\n",
              "       width=\"24px\">\n",
              "    <path d=\"M0 0h24v24H0V0z\" fill=\"none\"/>\n",
              "    <path d=\"M18.56 5.44l.94 2.06.94-2.06 2.06-.94-2.06-.94-.94-2.06-.94 2.06-2.06.94zm-11 1L8.5 8.5l.94-2.06 2.06-.94-2.06-.94L8.5 2.5l-.94 2.06-2.06.94zm10 10l.94 2.06.94-2.06 2.06-.94-2.06-.94-.94-2.06-.94 2.06-2.06.94z\"/><path d=\"M17.41 7.96l-1.37-1.37c-.4-.4-.92-.59-1.43-.59-.52 0-1.04.2-1.43.59L10.3 9.45l-7.72 7.72c-.78.78-.78 2.05 0 2.83L4 21.41c.39.39.9.59 1.41.59.51 0 1.02-.2 1.41-.59l7.78-7.78 2.81-2.81c.8-.78.8-2.07 0-2.86zM5.41 20L4 18.59l7.72-7.72 1.47 1.35L5.41 20z\"/>\n",
              "  </svg>\n",
              "      </button>\n",
              "      \n",
              "  <style>\n",
              "    .colab-df-container {\n",
              "      display:flex;\n",
              "      flex-wrap:wrap;\n",
              "      gap: 12px;\n",
              "    }\n",
              "\n",
              "    .colab-df-convert {\n",
              "      background-color: #E8F0FE;\n",
              "      border: none;\n",
              "      border-radius: 50%;\n",
              "      cursor: pointer;\n",
              "      display: none;\n",
              "      fill: #1967D2;\n",
              "      height: 32px;\n",
              "      padding: 0 0 0 0;\n",
              "      width: 32px;\n",
              "    }\n",
              "\n",
              "    .colab-df-convert:hover {\n",
              "      background-color: #E2EBFA;\n",
              "      box-shadow: 0px 1px 2px rgba(60, 64, 67, 0.3), 0px 1px 3px 1px rgba(60, 64, 67, 0.15);\n",
              "      fill: #174EA6;\n",
              "    }\n",
              "\n",
              "    [theme=dark] .colab-df-convert {\n",
              "      background-color: #3B4455;\n",
              "      fill: #D2E3FC;\n",
              "    }\n",
              "\n",
              "    [theme=dark] .colab-df-convert:hover {\n",
              "      background-color: #434B5C;\n",
              "      box-shadow: 0px 1px 3px 1px rgba(0, 0, 0, 0.15);\n",
              "      filter: drop-shadow(0px 1px 2px rgba(0, 0, 0, 0.3));\n",
              "      fill: #FFFFFF;\n",
              "    }\n",
              "  </style>\n",
              "\n",
              "      <script>\n",
              "        const buttonEl =\n",
              "          document.querySelector('#df-404d6d16-0436-4cbd-84ab-a05b4bad5999 button.colab-df-convert');\n",
              "        buttonEl.style.display =\n",
              "          google.colab.kernel.accessAllowed ? 'block' : 'none';\n",
              "\n",
              "        async function convertToInteractive(key) {\n",
              "          const element = document.querySelector('#df-404d6d16-0436-4cbd-84ab-a05b4bad5999');\n",
              "          const dataTable =\n",
              "            await google.colab.kernel.invokeFunction('convertToInteractive',\n",
              "                                                     [key], {});\n",
              "          if (!dataTable) return;\n",
              "\n",
              "          const docLinkHtml = 'Like what you see? Visit the ' +\n",
              "            '<a target=\"_blank\" href=https://colab.research.google.com/notebooks/data_table.ipynb>data table notebook</a>'\n",
              "            + ' to learn more about interactive tables.';\n",
              "          element.innerHTML = '';\n",
              "          dataTable['output_type'] = 'display_data';\n",
              "          await google.colab.output.renderOutput(dataTable, element);\n",
              "          const docLink = document.createElement('div');\n",
              "          docLink.innerHTML = docLinkHtml;\n",
              "          element.appendChild(docLink);\n",
              "        }\n",
              "      </script>\n",
              "    </div>\n",
              "  </div>\n",
              "  "
            ]
          },
          "metadata": {},
          "execution_count": 14
        }
      ]
    },
    {
      "cell_type": "code",
      "source": [
        "PL = PL.iloc[::-1]\n",
        "PL[\"Esc_SA\"] = ExponentialWeighted(0.05,PL.shape[0])"
      ],
      "metadata": {
        "id": "h0_ABDzH26oC",
        "colab": {
          "base_uri": "https://localhost:8080/"
        },
        "outputId": "2bc8b881-487b-4e87-8481-45d96eb561e8"
      },
      "execution_count": null,
      "outputs": [
        {
          "output_type": "stream",
          "name": "stderr",
          "text": [
            "/usr/local/lib/python3.7/dist-packages/ipykernel_launcher.py:2: SettingWithCopyWarning: \n",
            "A value is trying to be set on a copy of a slice from a DataFrame.\n",
            "Try using .loc[row_indexer,col_indexer] = value instead\n",
            "\n",
            "See the caveats in the documentation: https://pandas.pydata.org/pandas-docs/stable/user_guide/indexing.html#returning-a-view-versus-a-copy\n",
            "  \n"
          ]
        }
      ]
    },
    {
      "cell_type": "code",
      "source": [
        "PL.head()"
      ],
      "metadata": {
        "id": "WPftwBnZ3XmP",
        "outputId": "c296ba42-5391-4e13-8cfc-d8d8f3c51a01",
        "colab": {
          "base_uri": "https://localhost:8080/",
          "height": 238
        }
      },
      "execution_count": null,
      "outputs": [
        {
          "output_type": "execute_result",
          "data": {
            "text/plain": [
              "                   AAPL           AMZN          MSFT           SQ  \\\n",
              "Date                                                                \n",
              "2022-04-04  4227.858939  492657.345021  11299.073014  1257.184144   \n",
              "2022-04-01  -306.583501   58095.925242   2267.988080  -212.004268   \n",
              "2022-03-31 -3171.913414 -334413.637679 -11139.232419  -466.349024   \n",
              "2022-03-30 -1186.544650 -299676.094843  -3095.712016  -666.425513   \n",
              "2022-03-29  3414.342234   32326.287568   9549.442910   916.635566   \n",
              "\n",
              "                    Total    Esc_SA  \n",
              "Date                                 \n",
              "2022-04-04  509441.461119  0.050000  \n",
              "2022-04-01   59845.325553  0.047500  \n",
              "2022-03-31 -349191.132536  0.045125  \n",
              "2022-03-30 -304624.777022  0.042869  \n",
              "2022-03-29   46206.708278  0.040725  "
            ],
            "text/html": [
              "\n",
              "  <div id=\"df-fbe71763-897d-42af-a07c-f398784c97ea\">\n",
              "    <div class=\"colab-df-container\">\n",
              "      <div>\n",
              "<style scoped>\n",
              "    .dataframe tbody tr th:only-of-type {\n",
              "        vertical-align: middle;\n",
              "    }\n",
              "\n",
              "    .dataframe tbody tr th {\n",
              "        vertical-align: top;\n",
              "    }\n",
              "\n",
              "    .dataframe thead th {\n",
              "        text-align: right;\n",
              "    }\n",
              "</style>\n",
              "<table border=\"1\" class=\"dataframe\">\n",
              "  <thead>\n",
              "    <tr style=\"text-align: right;\">\n",
              "      <th></th>\n",
              "      <th>AAPL</th>\n",
              "      <th>AMZN</th>\n",
              "      <th>MSFT</th>\n",
              "      <th>SQ</th>\n",
              "      <th>Total</th>\n",
              "      <th>Esc_SA</th>\n",
              "    </tr>\n",
              "    <tr>\n",
              "      <th>Date</th>\n",
              "      <th></th>\n",
              "      <th></th>\n",
              "      <th></th>\n",
              "      <th></th>\n",
              "      <th></th>\n",
              "      <th></th>\n",
              "    </tr>\n",
              "  </thead>\n",
              "  <tbody>\n",
              "    <tr>\n",
              "      <th>2022-04-04</th>\n",
              "      <td>4227.858939</td>\n",
              "      <td>492657.345021</td>\n",
              "      <td>11299.073014</td>\n",
              "      <td>1257.184144</td>\n",
              "      <td>509441.461119</td>\n",
              "      <td>0.050000</td>\n",
              "    </tr>\n",
              "    <tr>\n",
              "      <th>2022-04-01</th>\n",
              "      <td>-306.583501</td>\n",
              "      <td>58095.925242</td>\n",
              "      <td>2267.988080</td>\n",
              "      <td>-212.004268</td>\n",
              "      <td>59845.325553</td>\n",
              "      <td>0.047500</td>\n",
              "    </tr>\n",
              "    <tr>\n",
              "      <th>2022-03-31</th>\n",
              "      <td>-3171.913414</td>\n",
              "      <td>-334413.637679</td>\n",
              "      <td>-11139.232419</td>\n",
              "      <td>-466.349024</td>\n",
              "      <td>-349191.132536</td>\n",
              "      <td>0.045125</td>\n",
              "    </tr>\n",
              "    <tr>\n",
              "      <th>2022-03-30</th>\n",
              "      <td>-1186.544650</td>\n",
              "      <td>-299676.094843</td>\n",
              "      <td>-3095.712016</td>\n",
              "      <td>-666.425513</td>\n",
              "      <td>-304624.777022</td>\n",
              "      <td>0.042869</td>\n",
              "    </tr>\n",
              "    <tr>\n",
              "      <th>2022-03-29</th>\n",
              "      <td>3414.342234</td>\n",
              "      <td>32326.287568</td>\n",
              "      <td>9549.442910</td>\n",
              "      <td>916.635566</td>\n",
              "      <td>46206.708278</td>\n",
              "      <td>0.040725</td>\n",
              "    </tr>\n",
              "  </tbody>\n",
              "</table>\n",
              "</div>\n",
              "      <button class=\"colab-df-convert\" onclick=\"convertToInteractive('df-fbe71763-897d-42af-a07c-f398784c97ea')\"\n",
              "              title=\"Convert this dataframe to an interactive table.\"\n",
              "              style=\"display:none;\">\n",
              "        \n",
              "  <svg xmlns=\"http://www.w3.org/2000/svg\" height=\"24px\"viewBox=\"0 0 24 24\"\n",
              "       width=\"24px\">\n",
              "    <path d=\"M0 0h24v24H0V0z\" fill=\"none\"/>\n",
              "    <path d=\"M18.56 5.44l.94 2.06.94-2.06 2.06-.94-2.06-.94-.94-2.06-.94 2.06-2.06.94zm-11 1L8.5 8.5l.94-2.06 2.06-.94-2.06-.94L8.5 2.5l-.94 2.06-2.06.94zm10 10l.94 2.06.94-2.06 2.06-.94-2.06-.94-.94-2.06-.94 2.06-2.06.94z\"/><path d=\"M17.41 7.96l-1.37-1.37c-.4-.4-.92-.59-1.43-.59-.52 0-1.04.2-1.43.59L10.3 9.45l-7.72 7.72c-.78.78-.78 2.05 0 2.83L4 21.41c.39.39.9.59 1.41.59.51 0 1.02-.2 1.41-.59l7.78-7.78 2.81-2.81c.8-.78.8-2.07 0-2.86zM5.41 20L4 18.59l7.72-7.72 1.47 1.35L5.41 20z\"/>\n",
              "  </svg>\n",
              "      </button>\n",
              "      \n",
              "  <style>\n",
              "    .colab-df-container {\n",
              "      display:flex;\n",
              "      flex-wrap:wrap;\n",
              "      gap: 12px;\n",
              "    }\n",
              "\n",
              "    .colab-df-convert {\n",
              "      background-color: #E8F0FE;\n",
              "      border: none;\n",
              "      border-radius: 50%;\n",
              "      cursor: pointer;\n",
              "      display: none;\n",
              "      fill: #1967D2;\n",
              "      height: 32px;\n",
              "      padding: 0 0 0 0;\n",
              "      width: 32px;\n",
              "    }\n",
              "\n",
              "    .colab-df-convert:hover {\n",
              "      background-color: #E2EBFA;\n",
              "      box-shadow: 0px 1px 2px rgba(60, 64, 67, 0.3), 0px 1px 3px 1px rgba(60, 64, 67, 0.15);\n",
              "      fill: #174EA6;\n",
              "    }\n",
              "\n",
              "    [theme=dark] .colab-df-convert {\n",
              "      background-color: #3B4455;\n",
              "      fill: #D2E3FC;\n",
              "    }\n",
              "\n",
              "    [theme=dark] .colab-df-convert:hover {\n",
              "      background-color: #434B5C;\n",
              "      box-shadow: 0px 1px 3px 1px rgba(0, 0, 0, 0.15);\n",
              "      filter: drop-shadow(0px 1px 2px rgba(0, 0, 0, 0.3));\n",
              "      fill: #FFFFFF;\n",
              "    }\n",
              "  </style>\n",
              "\n",
              "      <script>\n",
              "        const buttonEl =\n",
              "          document.querySelector('#df-fbe71763-897d-42af-a07c-f398784c97ea button.colab-df-convert');\n",
              "        buttonEl.style.display =\n",
              "          google.colab.kernel.accessAllowed ? 'block' : 'none';\n",
              "\n",
              "        async function convertToInteractive(key) {\n",
              "          const element = document.querySelector('#df-fbe71763-897d-42af-a07c-f398784c97ea');\n",
              "          const dataTable =\n",
              "            await google.colab.kernel.invokeFunction('convertToInteractive',\n",
              "                                                     [key], {});\n",
              "          if (!dataTable) return;\n",
              "\n",
              "          const docLinkHtml = 'Like what you see? Visit the ' +\n",
              "            '<a target=\"_blank\" href=https://colab.research.google.com/notebooks/data_table.ipynb>data table notebook</a>'\n",
              "            + ' to learn more about interactive tables.';\n",
              "          element.innerHTML = '';\n",
              "          dataTable['output_type'] = 'display_data';\n",
              "          await google.colab.output.renderOutput(dataTable, element);\n",
              "          const docLink = document.createElement('div');\n",
              "          docLink.innerHTML = docLinkHtml;\n",
              "          element.appendChild(docLink);\n",
              "        }\n",
              "      </script>\n",
              "    </div>\n",
              "  </div>\n",
              "  "
            ]
          },
          "metadata": {},
          "execution_count": 16
        }
      ]
    },
    {
      "cell_type": "code",
      "source": [
        "# Comprobar que sume 1\n",
        "PL.Esc_SA.sum()"
      ],
      "metadata": {
        "id": "2fSLnXJA4prO",
        "outputId": "2a6a1301-f310-4ecf-b117-bc6ab63f764e",
        "colab": {
          "base_uri": "https://localhost:8080/"
        }
      },
      "execution_count": null,
      "outputs": [
        {
          "output_type": "execute_result",
          "data": {
            "text/plain": [
              "0.9999999999997767"
            ]
          },
          "metadata": {},
          "execution_count": 17
        }
      ]
    },
    {
      "cell_type": "code",
      "source": [
        "PL.head()"
      ],
      "metadata": {
        "colab": {
          "base_uri": "https://localhost:8080/",
          "height": 238
        },
        "id": "05YJq4vA85ev",
        "outputId": "ed16f174-bd65-4f35-cf74-64915ddce572"
      },
      "execution_count": null,
      "outputs": [
        {
          "output_type": "execute_result",
          "data": {
            "text/plain": [
              "                   AAPL           AMZN          MSFT           SQ  \\\n",
              "Date                                                                \n",
              "2022-04-04  4227.858939  492657.345021  11299.073014  1257.184144   \n",
              "2022-04-01  -306.583501   58095.925242   2267.988080  -212.004268   \n",
              "2022-03-31 -3171.913414 -334413.637679 -11139.232419  -466.349024   \n",
              "2022-03-30 -1186.544650 -299676.094843  -3095.712016  -666.425513   \n",
              "2022-03-29  3414.342234   32326.287568   9549.442910   916.635566   \n",
              "\n",
              "                    Total    Esc_SA  \n",
              "Date                                 \n",
              "2022-04-04  509441.461119  0.050000  \n",
              "2022-04-01   59845.325553  0.047500  \n",
              "2022-03-31 -349191.132536  0.045125  \n",
              "2022-03-30 -304624.777022  0.042869  \n",
              "2022-03-29   46206.708278  0.040725  "
            ],
            "text/html": [
              "\n",
              "  <div id=\"df-c2e56182-5f73-4c82-a624-ee143e20db03\">\n",
              "    <div class=\"colab-df-container\">\n",
              "      <div>\n",
              "<style scoped>\n",
              "    .dataframe tbody tr th:only-of-type {\n",
              "        vertical-align: middle;\n",
              "    }\n",
              "\n",
              "    .dataframe tbody tr th {\n",
              "        vertical-align: top;\n",
              "    }\n",
              "\n",
              "    .dataframe thead th {\n",
              "        text-align: right;\n",
              "    }\n",
              "</style>\n",
              "<table border=\"1\" class=\"dataframe\">\n",
              "  <thead>\n",
              "    <tr style=\"text-align: right;\">\n",
              "      <th></th>\n",
              "      <th>AAPL</th>\n",
              "      <th>AMZN</th>\n",
              "      <th>MSFT</th>\n",
              "      <th>SQ</th>\n",
              "      <th>Total</th>\n",
              "      <th>Esc_SA</th>\n",
              "    </tr>\n",
              "    <tr>\n",
              "      <th>Date</th>\n",
              "      <th></th>\n",
              "      <th></th>\n",
              "      <th></th>\n",
              "      <th></th>\n",
              "      <th></th>\n",
              "      <th></th>\n",
              "    </tr>\n",
              "  </thead>\n",
              "  <tbody>\n",
              "    <tr>\n",
              "      <th>2022-04-04</th>\n",
              "      <td>4227.858939</td>\n",
              "      <td>492657.345021</td>\n",
              "      <td>11299.073014</td>\n",
              "      <td>1257.184144</td>\n",
              "      <td>509441.461119</td>\n",
              "      <td>0.050000</td>\n",
              "    </tr>\n",
              "    <tr>\n",
              "      <th>2022-04-01</th>\n",
              "      <td>-306.583501</td>\n",
              "      <td>58095.925242</td>\n",
              "      <td>2267.988080</td>\n",
              "      <td>-212.004268</td>\n",
              "      <td>59845.325553</td>\n",
              "      <td>0.047500</td>\n",
              "    </tr>\n",
              "    <tr>\n",
              "      <th>2022-03-31</th>\n",
              "      <td>-3171.913414</td>\n",
              "      <td>-334413.637679</td>\n",
              "      <td>-11139.232419</td>\n",
              "      <td>-466.349024</td>\n",
              "      <td>-349191.132536</td>\n",
              "      <td>0.045125</td>\n",
              "    </tr>\n",
              "    <tr>\n",
              "      <th>2022-03-30</th>\n",
              "      <td>-1186.544650</td>\n",
              "      <td>-299676.094843</td>\n",
              "      <td>-3095.712016</td>\n",
              "      <td>-666.425513</td>\n",
              "      <td>-304624.777022</td>\n",
              "      <td>0.042869</td>\n",
              "    </tr>\n",
              "    <tr>\n",
              "      <th>2022-03-29</th>\n",
              "      <td>3414.342234</td>\n",
              "      <td>32326.287568</td>\n",
              "      <td>9549.442910</td>\n",
              "      <td>916.635566</td>\n",
              "      <td>46206.708278</td>\n",
              "      <td>0.040725</td>\n",
              "    </tr>\n",
              "  </tbody>\n",
              "</table>\n",
              "</div>\n",
              "      <button class=\"colab-df-convert\" onclick=\"convertToInteractive('df-c2e56182-5f73-4c82-a624-ee143e20db03')\"\n",
              "              title=\"Convert this dataframe to an interactive table.\"\n",
              "              style=\"display:none;\">\n",
              "        \n",
              "  <svg xmlns=\"http://www.w3.org/2000/svg\" height=\"24px\"viewBox=\"0 0 24 24\"\n",
              "       width=\"24px\">\n",
              "    <path d=\"M0 0h24v24H0V0z\" fill=\"none\"/>\n",
              "    <path d=\"M18.56 5.44l.94 2.06.94-2.06 2.06-.94-2.06-.94-.94-2.06-.94 2.06-2.06.94zm-11 1L8.5 8.5l.94-2.06 2.06-.94-2.06-.94L8.5 2.5l-.94 2.06-2.06.94zm10 10l.94 2.06.94-2.06 2.06-.94-2.06-.94-.94-2.06-.94 2.06-2.06.94z\"/><path d=\"M17.41 7.96l-1.37-1.37c-.4-.4-.92-.59-1.43-.59-.52 0-1.04.2-1.43.59L10.3 9.45l-7.72 7.72c-.78.78-.78 2.05 0 2.83L4 21.41c.39.39.9.59 1.41.59.51 0 1.02-.2 1.41-.59l7.78-7.78 2.81-2.81c.8-.78.8-2.07 0-2.86zM5.41 20L4 18.59l7.72-7.72 1.47 1.35L5.41 20z\"/>\n",
              "  </svg>\n",
              "      </button>\n",
              "      \n",
              "  <style>\n",
              "    .colab-df-container {\n",
              "      display:flex;\n",
              "      flex-wrap:wrap;\n",
              "      gap: 12px;\n",
              "    }\n",
              "\n",
              "    .colab-df-convert {\n",
              "      background-color: #E8F0FE;\n",
              "      border: none;\n",
              "      border-radius: 50%;\n",
              "      cursor: pointer;\n",
              "      display: none;\n",
              "      fill: #1967D2;\n",
              "      height: 32px;\n",
              "      padding: 0 0 0 0;\n",
              "      width: 32px;\n",
              "    }\n",
              "\n",
              "    .colab-df-convert:hover {\n",
              "      background-color: #E2EBFA;\n",
              "      box-shadow: 0px 1px 2px rgba(60, 64, 67, 0.3), 0px 1px 3px 1px rgba(60, 64, 67, 0.15);\n",
              "      fill: #174EA6;\n",
              "    }\n",
              "\n",
              "    [theme=dark] .colab-df-convert {\n",
              "      background-color: #3B4455;\n",
              "      fill: #D2E3FC;\n",
              "    }\n",
              "\n",
              "    [theme=dark] .colab-df-convert:hover {\n",
              "      background-color: #434B5C;\n",
              "      box-shadow: 0px 1px 3px 1px rgba(0, 0, 0, 0.15);\n",
              "      filter: drop-shadow(0px 1px 2px rgba(0, 0, 0, 0.3));\n",
              "      fill: #FFFFFF;\n",
              "    }\n",
              "  </style>\n",
              "\n",
              "      <script>\n",
              "        const buttonEl =\n",
              "          document.querySelector('#df-c2e56182-5f73-4c82-a624-ee143e20db03 button.colab-df-convert');\n",
              "        buttonEl.style.display =\n",
              "          google.colab.kernel.accessAllowed ? 'block' : 'none';\n",
              "\n",
              "        async function convertToInteractive(key) {\n",
              "          const element = document.querySelector('#df-c2e56182-5f73-4c82-a624-ee143e20db03');\n",
              "          const dataTable =\n",
              "            await google.colab.kernel.invokeFunction('convertToInteractive',\n",
              "                                                     [key], {});\n",
              "          if (!dataTable) return;\n",
              "\n",
              "          const docLinkHtml = 'Like what you see? Visit the ' +\n",
              "            '<a target=\"_blank\" href=https://colab.research.google.com/notebooks/data_table.ipynb>data table notebook</a>'\n",
              "            + ' to learn more about interactive tables.';\n",
              "          element.innerHTML = '';\n",
              "          dataTable['output_type'] = 'display_data';\n",
              "          await google.colab.output.renderOutput(dataTable, element);\n",
              "          const docLink = document.createElement('div');\n",
              "          docLink.innerHTML = docLinkHtml;\n",
              "          element.appendChild(docLink);\n",
              "        }\n",
              "      </script>\n",
              "    </div>\n",
              "  </div>\n",
              "  "
            ]
          },
          "metadata": {},
          "execution_count": 18
        }
      ]
    },
    {
      "cell_type": "code",
      "source": [
        "def VaR_CA(x,P,alpha):\n",
        "  aux = pd.DataFrame({\"X\":x, \"Proba\":P})\n",
        "  aux = aux.sort_values(by = [\"X\"])\n",
        "  aux[\"Acumulado\"] = aux[\"Proba\"].cumsum()\n",
        "  aux2 = aux[aux[\"Acumulado\"]>(1-alpha)]\n",
        "  return aux2[\"X\"].values[0]"
      ],
      "metadata": {
        "id": "QHYFVw7J42uz"
      },
      "execution_count": null,
      "outputs": []
    },
    {
      "cell_type": "code",
      "source": [
        "vector_Var = [VaR_CA(PL.iloc[:,i],PL.Esc_SA,0.98) for i in range(5)]\n",
        "print(vector_Var)"
      ],
      "metadata": {
        "colab": {
          "base_uri": "https://localhost:8080/"
        },
        "id": "BNdx9u6x8wIv",
        "outputId": "d7728ae4-4397-48e6-8ceb-cdb97d405b1a"
      },
      "execution_count": null,
      "outputs": [
        {
          "output_type": "stream",
          "name": "stdout",
          "text": [
            "[-4851.107202738407, -946451.3178738821, -23797.115299724042, -1228.0897161760458, -975708.685333298]\n"
          ]
        }
      ]
    },
    {
      "cell_type": "code",
      "source": [
        "def CVaR_CA(x,w,p=0.5):\n",
        "  aux = pd.DataFrame({\"X\":x, \"Proba\":w})\n",
        "  aux = aux.sort_values(by = [\"X\"])\n",
        "  aux[\"Acumulado\"] = aux[\"Proba\"].cumsum()\n",
        "  plist = aux[\"Acumulado\"]/aux[\"Acumulado\"].values[len(aux)-1]\n",
        "  aux2 = aux[plist<(1-p)]\n",
        "  loss = aux2[\"X\"].values\n",
        "  esc = aux2[\"Proba\"].values\n",
        "  return sum(loss*esc)/sum(esc)"
      ],
      "metadata": {
        "id": "N4e6XGkrAt4t"
      },
      "execution_count": null,
      "outputs": []
    },
    {
      "cell_type": "code",
      "source": [
        "vector_C_Var = [CVaR_CA(PL.iloc[:,i],PL.Esc_SA,0.98) for i in range(5)]\n",
        "print(vector_C_Var)"
      ],
      "metadata": {
        "colab": {
          "base_uri": "https://localhost:8080/"
        },
        "id": "dk9fmX4HIPrR",
        "outputId": "d763f300-264c-412a-821b-be90f3730893"
      },
      "execution_count": null,
      "outputs": [
        {
          "output_type": "stream",
          "name": "stdout",
          "text": [
            "[-6549.263564845153, -1194093.0129078357, -25029.39932478193, -1570.9101864895151, -1217733.5832499403]\n"
          ]
        }
      ]
    }
  ]
}